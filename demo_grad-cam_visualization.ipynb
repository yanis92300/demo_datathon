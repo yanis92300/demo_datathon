{
 "cells": [
  {
   "cell_type": "markdown",
   "id": "f8a3005f-2aa6-4821-8b08-f5c075f3ff01",
   "metadata": {},
   "source": [
    "# Interactive Grad-CAM Visualization with ResNet50\n",
    "\n",
    "This notebook will guide you through generating a Grad-CAM heatmap using a pre-trained ResNet50 model. Grad-CAM highlights \n",
    "the regions of the image that are most important for the model's decision-making process.\n"
   ]
  },
  {
   "cell_type": "code",
   "execution_count": null,
   "id": "2eca18fb-a32a-4538-8f9f-c20a7af12e69",
   "metadata": {},
   "outputs": [],
   "source": [
    "import tensorflow as tf\n",
    "import numpy as np\n",
    "import cv2\n",
    "import matplotlib.pyplot as plt\n",
    "import requests\n",
    "from io import BytesIO\n",
    "from PIL import Image\n",
    "from IPython.display import display, Markdown\n"
   ]
  },
  {
   "cell_type": "markdown",
   "id": "09af9bbd-5330-4b77-b1b1-ce30a2c65f21",
   "metadata": {},
   "source": [
    "## Download and Display the Original Image\n",
    "\n",
    "We will start by downloading an image from a Google Drive link and displaying it without any modifications.\n"
   ]
  },
  {
   "cell_type": "code",
   "execution_count": null,
   "id": "690d4836-45f0-45b2-a359-a1031f8f6da3",
   "metadata": {},
   "outputs": [],
   "source": [
    "# Allow user to input their own Google Drive image URL or use a default one\n",
    "url = input(\"Enter a Google Drive direct download link for an image, or press enter to use the default: \")\n",
    "if not url:\n",
    "    url = 'https://drive.google.com/uc?export=download&id=1owN9ljjHQRYv_UQQTCVPdwke_zP_Zg0q'\n",
    "\n",
    "# Download the image\n",
    "response = requests.get(url)\n",
    "img = Image.open(BytesIO(response.content))\n",
    "\n",
    "# Convert the image to RGB format (in case it's grayscale)\n",
    "img = img.convert('RGB')\n",
    "img = np.array(img)\n",
    "\n",
    "# Display the original image\n",
    "plt.figure(figsize=(6, 6))\n",
    "plt.imshow(img)\n",
    "plt.title(\"Original Image (without Grad-CAM)\")\n",
    "plt.axis('off')\n",
    "plt.show()\n"
   ]
  },
  {
   "cell_type": "markdown",
   "id": "ddbb9a0c-3fd6-42dc-9d96-d57c535c9491",
   "metadata": {},
   "source": [
    "## Preprocess the Image for the Model\n",
    "\n",
    "Now, we will preprocess the image to make it compatible with the ResNet50 model.\n"
   ]
  },
  {
   "cell_type": "code",
   "execution_count": null,
   "id": "c5232faf-7640-47bc-af5d-047310fb8f6f",
   "metadata": {},
   "outputs": [],
   "source": [
    "# Preprocess the image for the model\n",
    "img_size = (224, 224)\n",
    "img_resized = cv2.resize(img, img_size)\n",
    "img_array = np.expand_dims(img_resized, axis=0)\n",
    "img_array = tf.keras.applications.resnet50.preprocess_input(img_array)\n"
   ]
  },
  {
   "cell_type": "markdown",
   "id": "73e8839a-6eb7-49ec-90ca-083462177628",
   "metadata": {},
   "source": [
    "## Loading the ResNet50 Model\n",
    "\n",
    "We will load a pre-trained ResNet50 model from TensorFlow's applications, which is trained on the ImageNet dataset.\n"
   ]
  },
  {
   "cell_type": "code",
   "execution_count": null,
   "id": "28c88822-ba60-41db-9402-70860b31f462",
   "metadata": {},
   "outputs": [],
   "source": [
    "# Load a pre-trained ResNet50 model\n",
    "model = tf.keras.applications.ResNet50(weights='imagenet', include_top=True)\n",
    "\n",
    "# Get the output of the last convolutional layer\n",
    "last_conv_layer = model.get_layer('conv5_block3_out')\n",
    "\n",
    "# Create a model that maps the input image to the activations of the last conv layer\n",
    "grad_model = tf.keras.models.Model(\n",
    "    [model.inputs], \n",
    "    [last_conv_layer.output, model.output]\n",
    ")\n"
   ]
  },
  {
   "cell_type": "code",
   "execution_count": null,
   "id": "45ed6570-e84f-4f71-8fc6-7fb64de808a9",
   "metadata": {},
   "outputs": [],
   "source": [
    "## Generating the Grad-CAM Heatmap\n",
    "\n",
    "We will now generate the Grad-CAM heatmap, which highlights the regions in the image that are most important for the model's decision.\n"
   ]
  },
  {
   "cell_type": "code",
   "execution_count": null,
   "id": "f7f29172-084c-4eb9-8d79-32284e74b555",
   "metadata": {},
   "outputs": [],
   "source": [
    "# Get the gradient of the top predicted class for the input image\n",
    "with tf.GradientTape() as tape:\n",
    "    conv_outputs, predictions = grad_model(img_array)\n",
    "    top_pred_index = tf.argmax(predictions[0])\n",
    "    top_class_channel = predictions[:, top_pred_index]\n",
    "\n",
    "# Compute the gradient of the top class with regard to the output feature map\n",
    "grads = tape.gradient(top_class_channel, conv_outputs)\n",
    "\n",
    "# Compute the mean intensity of the gradient over each feature map channel\n",
    "pooled_grads = tf.reduce_mean(grads, axis=(0, 1, 2))\n",
    "\n",
    "# Multiply each channel in the feature map array by its corresponding gradients\n",
    "conv_outputs = conv_outputs[0]\n",
    "heatmap = tf.reduce_mean(tf.multiply(pooled_grads, conv_outputs), axis=-1)\n",
    "\n",
    "# Normalize the heatmap to a range of 0 to 1\n",
    "heatmap = np.maximum(heatmap, 0) / np.max(heatmap)\n",
    "heatmap = cv2.resize(heatmap, (img.shape[1], img.shape[0]))\n",
    "\n",
    "# Convert the heatmap to RGB\n",
    "heatmap = np.uint8(255 * heatmap)\n",
    "heatmap = cv2.applyColorMap(heatmap, cv2.COLORMAP_JET)\n",
    "\n",
    "# Display the heatmap\n",
    "plt.figure(figsize=(6, 6))\n",
    "plt.imshow(heatmap)\n",
    "plt.title(\"Grad-CAM Heatmap\")\n",
    "plt.axis('off')\n",
    "plt.show()\n"
   ]
  },
  {
   "cell_type": "code",
   "execution_count": null,
   "id": "509493a9-0667-4569-8e14-d2825f929adf",
   "metadata": {},
   "outputs": [],
   "source": [
    "## Superimposing Heatmap on Original Image\n",
    "\n",
    "Finally, we will superimpose the Grad-CAM heatmap on the original image to visualize the areas of the image that were most influential in the model's prediction.\n"
   ]
  },
  {
   "cell_type": "code",
   "execution_count": null,
   "id": "44b0c30c-589d-4103-b878-a4f5d79c8f21",
   "metadata": {},
   "outputs": [],
   "source": [
    "# Superimpose the heatmap on the original image\n",
    "superimposed_img = heatmap * 0.4 + img\n",
    "\n",
    "# Display the superimposed image\n",
    "plt.figure(figsize=(10, 10))\n",
    "plt.imshow(superimposed_img.astype(np.uint8))\n",
    "plt.title(\"Superimposed Heatmap on Original Image\")\n",
    "plt.axis('off')\n",
    "plt.show()\n"
   ]
  },
  {
   "cell_type": "code",
   "execution_count": null,
   "id": "0dcca4f3-58da-4bc0-a3aa-a0cbe05d092d",
   "metadata": {},
   "outputs": [],
   "source": []
  }
 ],
 "metadata": {
  "kernelspec": {
   "display_name": "Python 3 (ipykernel)",
   "language": "python",
   "name": "python3"
  },
  "language_info": {
   "codemirror_mode": {
    "name": "ipython",
    "version": 3
   },
   "file_extension": ".py",
   "mimetype": "text/x-python",
   "name": "python",
   "nbconvert_exporter": "python",
   "pygments_lexer": "ipython3",
   "version": "3.11.7"
  }
 },
 "nbformat": 4,
 "nbformat_minor": 5
}
